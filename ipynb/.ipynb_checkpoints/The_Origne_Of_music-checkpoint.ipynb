{
 "cells": [
  {
   "cell_type": "markdown",
   "metadata": {},
   "source": [
    "# The origine of Music dataset"
   ]
  },
  {
   "cell_type": "markdown",
   "metadata": {},
   "source": [
    "## Index\n",
    "1. [Introduction](#part1)\n",
    "2. [Load the data](#part2)\n",
    "3. [Data description](#part3)  \n",
    "    1. [Data preparation](#part31)  \n",
    "    2. [Data visualization](#part32)  \n",
    "        1. [Country distribution](#part321)  \n",
    "        2. [Feature visualization](#part322)  \n",
    "4. [Simple multi class logistic regression using the lm function](#part4)  \n",
    "    1. [Data preparation](#part41)  \n",
    "    2. [Run a single logistic regression for a given training set size ](#part42)  \n",
    "        1. [Learn the parameters Theta \\[31 x 68\\] using the training set](#part421)  \n",
    "        2. [Use the learned parameter to predict on the test set ](#part422)  \n",
    "        3. [Mesure the accuracy of the algorithme](#part423)  \n",
    "    3. [Study accuracy VS training set size](#part43)  "
   ]
  },
  {
   "cell_type": "markdown",
   "metadata": {},
   "source": [
    "## 1. Introduction <a name=\"part1\"></a>"
   ]
  },
  {
   "cell_type": "markdown",
   "metadata": {},
   "source": [
    "We will be studying the dataset called *Geographical Original of Music* which can be found on the [UCI Machine learning site](https://archive.ics.uci.edu/ml/datasets/Geographical+Original+of+Music)  \n",
    "This dataset contains audio feature from 1059 songs labelled with their country of origine.  \n",
    "The purpose of this dataset is to predict the country of origine of songs automaticaly.  \n",
    "Their are 33 countries represented in this dataset.\n",
    "The music used is traditional, ethnic or \"world\" only, as classified by the publishers of the product on which it appears. Any Western music is not included because its influence is global - what we seek are the aspects of music that most influence location"
   ]
  },
  {
   "cell_type": "code",
   "execution_count": 174,
   "metadata": {},
   "outputs": [],
   "source": [
    "library(repr)\n",
    "library(ggplot2)\n",
    "library(stats)\n",
    "library(scales)\n",
    "library(stringr)\n",
    "library(zoo)\n",
    "library(dplyr)\n",
    "library(RcppRoll)"
   ]
  },
  {
   "cell_type": "markdown",
   "metadata": {},
   "source": [
    "## 2. Load the data <a name=\"part2\"></a>"
   ]
  },
  {
   "cell_type": "code",
   "execution_count": 175,
   "metadata": {},
   "outputs": [],
   "source": [
    "path<-file.path(\"..\",\"data\",\"default_features_1059_tracks.txt\")\n",
    "df<-read.csv(path, header = FALSE, stringsAsFactors = F)"
   ]
  },
  {
   "cell_type": "markdown",
   "metadata": {},
   "source": [
    "## 3. Data description <a name=\"part3\"></a>"
   ]
  },
  {
   "cell_type": "markdown",
   "metadata": {},
   "source": [
    "The dataset is a **1059 x 70** table of **numerics**. When loaded into R using ```pryr::object_size``` we can check the dataframe only takes 601kB.  \n",
    "The first **68** columns are the **features** and the last 2 columns are the longitude and latitude where the music was produce.  \n",
    "We will convert the output columns into a single column with the corresponding **country** which will be are **target**.\n"
   ]
  },
  {
   "cell_type": "markdown",
   "metadata": {},
   "source": [
    "### A. Data preparation <a name=\"part31\"></a>"
   ]
  },
  {
   "cell_type": "markdown",
   "metadata": {},
   "source": [
    "#### 3.1.1. Seperate features from outputs "
   ]
  },
  {
   "cell_type": "code",
   "execution_count": 176,
   "metadata": {},
   "outputs": [],
   "source": [
    "X<-df[,1:68]\n",
    "Y<-df[,c(69,70)]"
   ]
  },
  {
   "cell_type": "markdown",
   "metadata": {},
   "source": [
    "#### 3.1.2. Transform outputs lattitude and longitude into Country Code"
   ]
  },
  {
   "cell_type": "markdown",
   "metadata": {},
   "source": [
    "##### 3.1.2.1. Define a function with lattitude and longitude as inputs and Country Code as output"
   ]
  },
  {
   "cell_type": "code",
   "execution_count": 4,
   "metadata": {},
   "outputs": [],
   "source": [
    "getCountry<-function(lat,lon){\n",
    "  library(httr)\n",
    "  address<-paste0(\"http://api.geonames.org/countryCode?lat=\",lat,\"&lng=\",lon,\"&username=nicolasn\")\n",
    "  resp<-httr::GET(url = address, config = list(type = \"JSON\"))\n",
    "  country<-content(resp, \"text\", encoding = \"UTF-8\")\n",
    "  country<-sub(\"\\n\",\"\",country)\n",
    "  country<-sub(\"\\r\",\"\",country)\n",
    "  return(country)\n",
    "}"
   ]
  },
  {
   "cell_type": "markdown",
   "metadata": {},
   "source": [
    "##### 3.1.2.2. Apply this function to the output "
   ]
  },
  {
   "cell_type": "code",
   "execution_count": 5,
   "metadata": {},
   "outputs": [],
   "source": [
    "Ycountry<-mapply(getCountry,Y[,1],Y[,2])"
   ]
  },
  {
   "cell_type": "markdown",
   "metadata": {},
   "source": [
    "##### 3.1.2.3. Clean up error country"
   ]
  },
  {
   "cell_type": "code",
   "execution_count": 177,
   "metadata": {},
   "outputs": [],
   "source": [
    "X_clean<-X[Ycountry != \"ERR:15:no country code found\",]\n",
    "Y_clean<-Ycountry[Ycountry != \"ERR:15:no country code found\"]"
   ]
  },
  {
   "cell_type": "markdown",
   "metadata": {},
   "source": [
    "### B. Data visualization <a name=\"part32\"></a>\n",
    "#### a. Country distribution <a name=\"part321\"></a>"
   ]
  },
  {
   "cell_type": "code",
   "execution_count": 178,
   "metadata": {},
   "outputs": [],
   "source": [
    "options(repr.plot.width=6, repr.plot.height=3)"
   ]
  },
  {
   "cell_type": "code",
   "execution_count": 179,
   "metadata": {},
   "outputs": [
    {
     "data": {},
     "metadata": {},
     "output_type": "display_data"
    },
    {
     "data": {
      "image/png": "[encoded data removed]",
      "text/plain": [
       "plot without title"
      ]
     },
     "metadata": {},
     "output_type": "display_data"
    }
   ],
   "source": [
    "p<-ggplot(data.frame(Y_clean, stringsAsFactors = FALSE), aes( x = reorder(Y_clean, Y_clean, function(x)-length(x))))+\n",
    "    geom_bar(color = \"black\" , fill = \"grey\") +\n",
    "    labs(title = \"Country distribution\") +\n",
    "    labs(x = \"Countries\") + \n",
    "    labs(y = \"Number of songs\") + \n",
    "    theme(panel.background = element_rect(fill = \"white\", colour = \"white\"))\n",
    "p"
   ]
  },
  {
   "cell_type": "markdown",
   "metadata": {},
   "source": [
    "### b. Feature visualization <a name=\"part322\"></a>"
   ]
  },
  {
   "cell_type": "markdown",
   "metadata": {},
   "source": [
    "#### i. PCA\n",
    "We try to visualise the feature distribution by reducing the number of feature with a PCA."
   ]
  },
  {
   "cell_type": "code",
   "execution_count": 180,
   "metadata": {},
   "outputs": [],
   "source": [
    "ir.pca <- prcomp(X_clean, center = TRUE, scale. = TRUE) "
   ]
  },
  {
   "cell_type": "code",
   "execution_count": 181,
   "metadata": {},
   "outputs": [
    {
     "data": {
      "image/png": "[encoded data removed]",
      "text/plain": [
       "Plot with title “Principal Component Analysis”"
      ]
     },
     "metadata": {},
     "output_type": "display_data"
    }
   ],
   "source": [
    "plot((summary(ir.pca)$importance[3,]), ylab = \"% explained\", xlab = \"number of component\")\n",
    "title(main=\"Principal Component Analysis\")"
   ]
  },
  {
   "cell_type": "markdown",
   "metadata": {},
   "source": [
    "The plot shows that with 2 component we only retain 30% of the variation which is pretty low and thus ploting using only two components doesn't make a lot of sense.\n",
    "The MARSYAS software output 68 features for some probably good reasons ! "
   ]
  },
  {
   "cell_type": "markdown",
   "metadata": {},
   "source": [
    "## 4. Simple multi class logistic regression using the lm function <a name=\"part4\"></a>\n",
    "### A. Data preparation <a name=\"part41\"></a>\n",
    "First we will separate our dataset into a training, a testing and a validation dataset\n",
    "\n",
    "Then we will transform our dataframe into matrixes which suites better to logistic regressions\n",
    "* The feature matrix : this is the X_clean data frame coerced into a matrix\n",
    "* The target matrix : we need to use onehot encoding to transform the factor vector Y_clean into binary matrix with one column per factor"
   ]
  },
  {
   "cell_type": "markdown",
   "metadata": {},
   "source": [
    "#### a. Shuffle dataset and split into training and test"
   ]
  },
  {
   "cell_type": "code",
   "execution_count": 171,
   "metadata": {},
   "outputs": [],
   "source": [
    "set.seed(10)\n",
    "random_order <- sample(1:length(Y_clean))\n",
    "X_random <- X_clean[random_order,]\n",
    "training_set_size<-800\n",
    "X_train <- as.matrix(X_random[1:training_set_size,])\n",
    "X_test <- as.matrix(X_random[(training_set_size+1):nrow(X_random),])"
   ]
  },
  {
   "cell_type": "markdown",
   "metadata": {},
   "source": [
    "#### b.  Target : One hot encoding"
   ]
  },
  {
   "cell_type": "code",
   "execution_count": 172,
   "metadata": {},
   "outputs": [],
   "source": [
    "Y_random <- Y_clean[random_order]\n",
    "encoder<-onehot::onehot(as.data.frame(Y_random),max_levels = 100)\n",
    "Y_matrix<-predict(encoder,as.data.frame(Y_random))\n",
    "colnames(Y_matrix)<-str_sub(colnames(Y_matrix),-2,-1) \n",
    "\n",
    "mapping<-cbind(colnames(Y_matrix), 1:ncol(Y_matrix))\n",
    "\n",
    "Y_train_onehot <- Y_matrix[1:training_set_size,]\n",
    "Y_test_onehot <- Y_matrix[(training_set_size+1):nrow(X_random),]\n",
    "Y_train <- Y_random[1:training_set_size]\n",
    "Y_test <- Y_random[(training_set_size+1):nrow(X_random)]"
   ]
  },
  {
   "cell_type": "markdown",
   "metadata": {},
   "source": [
    "### B. Run a single logistic regression for a given training set size <a name=\"part42\"></a>\n",
    "#### a. Learn the parameters Theta \\[31 x 68\\] using the training set <a name=\"part421\"></a>"
   ]
  },
  {
   "cell_type": "code",
   "execution_count": 70,
   "metadata": {},
   "outputs": [],
   "source": [
    "# The objectives of the getTheta function are :\n",
    "# 1. To be able to use the column number of the Y matrix as a an argument of the function lm\n",
    "# 2. To easily extract the regression coeffecients from the lm function\n",
    "get_theta <- function(i,Y,X){\n",
    "    regression_output <- lm(Y[,i] ~ X)\n",
    "    theta <- as.matrix(regression_output$coefficients)\n",
    "    return(theta)\n",
    "}\n",
    "\n",
    "getTheta <- function(Y_onehot,X){\n",
    "    Theta<-lapply(1:ncol(Y_onehot), get_theta, Y_onehot, X)\n",
    "    return(Theta)\n",
    "}\n"
   ]
  },
  {
   "cell_type": "code",
   "execution_count": 71,
   "metadata": {},
   "outputs": [],
   "source": [
    "Theta <- getTheta(Y_train_onehot, X_train)"
   ]
  },
  {
   "cell_type": "markdown",
   "metadata": {},
   "source": [
    "#### b. Use the learned parameter to predict on the test set <a name=\"part422\"></a>"
   ]
  },
  {
   "cell_type": "code",
   "execution_count": 72,
   "metadata": {},
   "outputs": [],
   "source": [
    "# The get_prediction return the prediction associated to X using theta\n",
    "get_prediction <- function(ptheta,pX){\n",
    "    theta_matrix<-as.matrix(ptheta)\n",
    "    X_with_intercept <- cbind(as.matrix(rep(1,nrow(pX))),pX)\n",
    "    prediction <- 1 / (1 + exp(- X_with_intercept %*% theta_matrix))\n",
    "    return(prediction)\n",
    "}\n",
    "\n",
    "# The getPrediction return the prediction associated to X using Theta\n",
    "getPrediction <- function(pTheta1,pX1){\n",
    "    Y_predicted<-as.matrix(as.data.frame(lapply(pTheta1, get_prediction, pX1)))\n",
    "    return(Y_predicted)\n",
    "}\n",
    "\n",
    "getPredictionAsCountryNames <- function(pTheta2, pX2){\n",
    "    Y_predictions_matrix <- getPrediction(pTheta2,pX2)\n",
    "    Y_prediction_binary_matrix <- Y_predictions_matrix == apply(Y_predictions_matrix,1, max)\n",
    "    prediction_index<-max.col(Y_prediction_binary_matrix)\n",
    "    predict_country<-mapping[prediction_index,1]\n",
    "    return(predict_country)\n",
    "}"
   ]
  },
  {
   "cell_type": "code",
   "execution_count": 73,
   "metadata": {},
   "outputs": [],
   "source": [
    "prediction_output<-getPredictionAsCountryNames(Theta, X_test)"
   ]
  },
  {
   "cell_type": "markdown",
   "metadata": {},
   "source": [
    "#### c. Mesure the accuracy of the algorithme <a name=\"part423\"></a>"
   ]
  },
  {
   "cell_type": "code",
   "execution_count": 74,
   "metadata": {},
   "outputs": [],
   "source": [
    "accuracy <- function(target,prediction){\n",
    "    target_matrix<-as.matrix(target)\n",
    "    prediction_matrix<-as.matrix(prediction)\n",
    "    if(nrow(target_matrix) != nrow(prediction_matrix)){\n",
    "        stop(\"Error : the target and the prediction don't have the same size\")\n",
    "    }\n",
    "    return(sum(prediction_matrix == target_matrix)/nrow(target_matrix))\n",
    "}"
   ]
  },
  {
   "cell_type": "code",
   "execution_count": 75,
   "metadata": {},
   "outputs": [],
   "source": [
    "res<-accuracy(prediction_output, Y_test)"
   ]
  },
  {
   "cell_type": "code",
   "execution_count": 173,
   "metadata": {},
   "outputs": [
    {
     "name": "stdout",
     "output_type": "stream",
     "text": [
      "The accuracy of the model is 39.1%"
     ]
    }
   ],
   "source": [
    "cat(paste0(\"The accuracy of the model is \", as.character(percent(res))))"
   ]
  },
  {
   "cell_type": "markdown",
   "metadata": {},
   "source": [
    "### C. Study accuracy VS training set size <a name=\"part43\"></a>"
   ]
  },
  {
   "cell_type": "code",
   "execution_count": 77,
   "metadata": {},
   "outputs": [],
   "source": [
    "accuracy_vs_trainingset_size<-function(n){\n",
    "    X_train <- as.matrix(X_random[1:n,])\n",
    "    X_test <- as.matrix(X_random[(n+1):nrow(X_random),])\n",
    "    Y_train_onehot <- Y_matrix[1:n,]\n",
    "    Y_test_onehot <- Y_matrix[(n+1):nrow(X_random),]\n",
    "    Y_train <- Y_random[1:n]\n",
    "    Y_test <- Y_random[(n+1):nrow(X_random)]\n",
    "    \n",
    "    Theta <- getTheta(Y_train_onehot, X_train)\n",
    "    \n",
    "    prediction_output<-getPredictionAsCountryNames(Theta, X_test)\n",
    "    \n",
    "    res<-accuracy(prediction_output, Y_test)\n",
    "    \n",
    "    return(res)\n",
    "}"
   ]
  },
  {
   "cell_type": "code",
   "execution_count": 82,
   "metadata": {},
   "outputs": [],
   "source": [
    "accuracy_vs_trainingset_size_results<-sapply(100:900,accuracy_vs_trainingset_size)"
   ]
  },
  {
   "cell_type": "code",
   "execution_count": 157,
   "metadata": {},
   "outputs": [],
   "source": [
    "plot_df<-as.data.frame(list( accuracy = accuracy_vs_trainingset_size_results, training_set_size = 100:900))%>%\n",
    "    mutate(average_accuracy = RcppRoll::roll_mean(accuracy,50,fill=NA))"
   ]
  },
  {
   "cell_type": "code",
   "execution_count": 190,
   "metadata": {},
   "outputs": [],
   "source": [
    "p<-plot_df%>%\n",
    "    ggplot(aes(x = training_set_size ))+\n",
    "    geom_point(aes(y = accuracy), shape = \"+\", color = \"black\", alpha = 0.7)+\n",
    "    geom_line(aes(y = average_accuracy), color = \"red\")+\n",
    "    scale_x_continuous(c(1,1000), name = \"Training set size\") +\n",
    "    scale_y_continuous(limits = c(0, .6),labels = scales::percent)+\n",
    "    labs(title = \"Accuracy VS training set size\")+"
   ]
  },
  {
   "cell_type": "code",
   "execution_count": 191,
   "metadata": {},
   "outputs": [
    {
     "data": {},
     "metadata": {},
     "output_type": "display_data"
    },
    {
     "data": {
      "image/png": "[encoded data removed]",
      "text/plain": [
       "plot without title"
      ]
     },
     "metadata": {},
     "output_type": "display_data"
    }
   ],
   "source": [
    "options(repr.plot.width=8, repr.plot.height=4)\n",
    "options( warn = -1 );p;options( warn = 0 )"
   ]
  },
  {
   "cell_type": "markdown",
   "metadata": {},
   "source": [
    "The model seems to stagnate as we increase the size of the dataset at arround 40% accuraccy"
   ]
  }
 ],
 "metadata": {
  "kernelspec": {
   "display_name": "R",
   "language": "R",
   "name": "ir"
  },
  "language_info": {
   "codemirror_mode": "r",
   "file_extension": ".r",
   "mimetype": "text/x-r-source",
   "name": "R",
   "pygments_lexer": "r",
   "version": "3.3.2"
  }
 },
 "nbformat": 4,
 "nbformat_minor": 2
}
