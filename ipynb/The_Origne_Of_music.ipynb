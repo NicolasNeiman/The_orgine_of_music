{
 "cells": [
  {
   "cell_type": "markdown",
   "metadata": {},
   "source": [
    "# The origine of Music dataset"
   ]
  },
  {
   "cell_type": "markdown",
   "metadata": {},
   "source": [
    "## 1. Introduction"
   ]
  },
  {
   "cell_type": "markdown",
   "metadata": {},
   "source": [
    "We will be studying the dataset called *Geographical Original of Music* which can be found on the [UCI Machine learning site](https://archive.ics.uci.edu/ml/datasets/Geographical+Original+of+Music)  \n",
    "This dataset contains audio feature from 1059 songs labelled with their country of origine.  \n",
    "The purpose of this dataset is to predict the country of origine of songs automaticaly.  \n",
    "Their are 33 countries represented in this dataset.\n",
    "The music used is traditional, ethnic or \"world\" only, as classified by the publishers of the product on which it appears. Any Western music is not included because its influence is global - what we seek are the aspects of music that most influence location"
   ]
  },
  {
   "cell_type": "markdown",
   "metadata": {},
   "source": [
    "## 2. Retrieving the data"
   ]
  },
  {
   "cell_type": "markdown",
   "metadata": {},
   "source": [
    "### 2.1. Option 1 : Download data from UCI website"
   ]
  },
  {
   "cell_type": "markdown",
   "metadata": {},
   "source": [
    "#### 2.1.1. Create a dedicated folder"
   ]
  },
  {
   "cell_type": "code",
   "execution_count": 81,
   "metadata": {},
   "outputs": [],
   "source": [
    "dir.create(\"Music_Project\", showWarnings = FALSE, recursive = TRUE)\n",
    "setwd(\"Music_Project\")"
   ]
  },
  {
   "cell_type": "markdown",
   "metadata": {},
   "source": [
    "#### 2.1.2. Dowload the ziped folder and unzip it"
   ]
  },
  {
   "cell_type": "code",
   "execution_count": 257,
   "metadata": {},
   "outputs": [],
   "source": [
    "download.file(url = \"https://archive.ics.uci.edu/ml/machine-learning-databases/00315/Geographical%20Original%20of%20Music.zip\",\n",
    "              destfile = \"OriginOfMusic.zip\")"
   ]
  },
  {
   "cell_type": "code",
   "execution_count": 83,
   "metadata": {},
   "outputs": [],
   "source": [
    "zipF<- \"OriginOfMusic.zip\"\n",
    "outDir<-\"OriginOfMusic\"\n",
    "unzip(zipF,exdir=outDir)"
   ]
  },
  {
   "cell_type": "markdown",
   "metadata": {},
   "source": [
    "#### 2.1.3. Load the data"
   ]
  },
  {
   "cell_type": "code",
   "execution_count": 258,
   "metadata": {},
   "outputs": [],
   "source": [
    "path<-file.path(\"OriginOfMusic\",\"Geographical Original of Music\", \"default_features_1059_tracks.txt\")"
   ]
  },
  {
   "cell_type": "code",
   "execution_count": 246,
   "metadata": {},
   "outputs": [],
   "source": [
    "df<-read.csv(path, header = FALSE)"
   ]
  },
  {
   "cell_type": "markdown",
   "metadata": {},
   "source": [
    "### 2.2. Option 2 : Use the dataset provided in the repository"
   ]
  },
  {
   "cell_type": "code",
   "execution_count": null,
   "metadata": {},
   "outputs": [],
   "source": [
    "path<-file.path(\"data\",\"default_features_1059_tracks.txt\")\n",
    "df<-read.csv(path, header = FALSE)"
   ]
  },
  {
   "cell_type": "markdown",
   "metadata": {},
   "source": [
    "## 3. Data description"
   ]
  },
  {
   "cell_type": "markdown",
   "metadata": {},
   "source": [
    "The dataset is a **1059 x 70** table of **numerics**. \n",
    "The first **68** columns are the **features** and the last 2 columns are the longitude and latitude where the music was produce.  \n",
    "We will convert the output columns into a single column with the corresponding **country** which will be are **target**.\n"
   ]
  },
  {
   "cell_type": "markdown",
   "metadata": {},
   "source": [
    "### 3.1. Data preparation"
   ]
  },
  {
   "cell_type": "markdown",
   "metadata": {},
   "source": [
    "#### 3.1.1. Seperate features from outputs "
   ]
  },
  {
   "cell_type": "code",
   "execution_count": 251,
   "metadata": {},
   "outputs": [],
   "source": [
    "X<-df[,1:68]\n",
    "Y<-df[,c(69,70)]"
   ]
  },
  {
   "cell_type": "markdown",
   "metadata": {},
   "source": [
    "#### 3.1.2. Transform outputs lattitude and longitude into Country Code"
   ]
  },
  {
   "cell_type": "markdown",
   "metadata": {},
   "source": [
    "##### 3.1.2.1. Define a function with lattitude and longitude as inputs and Country Code as output"
   ]
  },
  {
   "cell_type": "code",
   "execution_count": 89,
   "metadata": {},
   "outputs": [],
   "source": [
    "getCountry<-function(lat,lon){\n",
    "  library(httr)\n",
    "  address<-paste0(\"http://api.geonames.org/countryCode?lat=\",lat,\"&lng=\",lon,\"&username=nicolasn\")\n",
    "  resp<-httr::GET(url = address, config = list(type = \"JSON\"))\n",
    "  country<-content(resp, \"text\", encoding = \"UTF-8\")\n",
    "  country<-sub(\"\\n\",\"\",country)\n",
    "  country<-sub(\"\\r\",\"\",country)\n",
    "  return(country)\n",
    "}"
   ]
  },
  {
   "cell_type": "markdown",
   "metadata": {},
   "source": [
    "##### 3.1.2.2. Apply this function to the output "
   ]
  },
  {
   "cell_type": "code",
   "execution_count": 90,
   "metadata": {},
   "outputs": [],
   "source": [
    "Ycountry<-mapply(getCountry,Y[,1],Y[,2])"
   ]
  },
  {
   "cell_type": "markdown",
   "metadata": {},
   "source": [
    "##### 3.1.2.3. Clean up error country"
   ]
  },
  {
   "cell_type": "code",
   "execution_count": 91,
   "metadata": {},
   "outputs": [],
   "source": [
    "X_clean<-X[Ycountry != \"ERR:15:no country code found\",]\n",
    "Y_clean<-Ycountry[Ycountry != \"ERR:15:no country code found\"]"
   ]
  },
  {
   "cell_type": "markdown",
   "metadata": {},
   "source": [
    "### 3.2. Data visualization\n",
    "#### 3.2.1. Country distribution"
   ]
  },
  {
   "cell_type": "code",
   "execution_count": 256,
   "metadata": {},
   "outputs": [
    {
     "data": {},
     "metadata": {},
     "output_type": "display_data"
    },
    {
     "data": {
      "image/png": "[encoded data removed]",
      "text/plain": [
       "plot without title"
      ]
     },
     "metadata": {},
     "output_type": "display_data"
    }
   ],
   "source": [
    "p<-ggplot(data.frame(Y_clean, stringsAsFactors = FALSE), aes( x = reorder(Y_clean, Y_clean, function(x)-length(x))))+\n",
    "    geom_bar(color = \"black\" , fill = \"grey\") +\n",
    "    labs(title = \"Country distribution\") +\n",
    "    labs(x = \"Countries\") + \n",
    "    labs(y = \"Number of songs\") + \n",
    "    theme(panel.background = element_rect(fill = \"white\", colour = \"white\"))\n",
    "p"
   ]
  },
  {
   "cell_type": "markdown",
   "metadata": {},
   "source": [
    "### 3.2.2. Feature visualization"
   ]
  },
  {
   "cell_type": "markdown",
   "metadata": {},
   "source": [
    "#### 3.2.2.1. PCA\n",
    "We try to visualise the feature distribution by reducing the number of feature with a PCA."
   ]
  },
  {
   "cell_type": "code",
   "execution_count": 259,
   "metadata": {},
   "outputs": [],
   "source": [
    "ir.pca <- prcomp(X_clean, center = TRUE, scale. = TRUE) "
   ]
  },
  {
   "cell_type": "code",
   "execution_count": 297,
   "metadata": {},
   "outputs": [
    {
     "data": {
      "image/png": "[encoded data removed]",
      "text/plain": [
       "plot without title"
      ]
     },
     "metadata": {},
     "output_type": "display_data"
    }
   ],
   "source": [
    "plot((summary(ir.pca)$importance[3,]))"
   ]
  },
  {
   "cell_type": "markdown",
   "metadata": {},
   "source": [
    "The plot shows that with 2 component we only retain 30% of the variation which is pretty low and thus ploting using only two components doesn't make a lot of sense.\n",
    "The MARSYAS software output 68 features for some probably good reasons ! "
   ]
  },
  {
   "cell_type": "markdown",
   "metadata": {},
   "source": [
    "### Separate dataset into training, testing and validation datasets"
   ]
  },
  {
   "cell_type": "code",
   "execution_count": 123,
   "metadata": {},
   "outputs": [],
   "source": [
    "random_order<-sample(1:length(Y_clean))\n",
    "\n",
    "X_clean_random<-X_clean[random_order,]\n",
    "Y_clean_random<-Y_clean[random_order]\n",
    "\n",
    "X_train <- X_clean_random[1:600,]\n",
    "Y_train <- Y_clean_random[1:600]\n",
    "\n",
    "X_test <- X_clean_random[601:800,]\n",
    "Y_test <- Y_clean_random[601:800]\n",
    "\n",
    "X_val <- X_clean_random[801:length(X_clean_random),]\n",
    "Y_val <- Y_clean_random[801:length(X_clean_random)]"
   ]
  }
 ],
 "metadata": {
  "kernelspec": {
   "display_name": "R",
   "language": "R",
   "name": "ir"
  },
  "language_info": {
   "codemirror_mode": "r",
   "file_extension": ".r",
   "mimetype": "text/x-r-source",
   "name": "R",
   "pygments_lexer": "r",
   "version": "3.3.2"
  }
 },
 "nbformat": 4,
 "nbformat_minor": 2
}
